{
  "cells": [
    {
      "cell_type": "markdown",
      "metadata": {
        "id": "b66g2-id_uy_"
      },
      "source": [
        "Project Week1"
      ]
    },
    {
      "cell_type": "markdown",
      "metadata": {
        "id": "vUB6DxoY_uzE"
      },
      "source": [
        "Question1:\n",
        "\n",
        "Write a program to find the data types of the following variables(you can use a function if you comfortable with it):\n",
        "\n"
      ]
    },
    {
      "cell_type": "code",
      "execution_count": 2,
      "metadata": {
        "id": "0kfSPZTi_uzI"
      },
      "outputs": [
        {
          "ename": "NameError",
          "evalue": "name 'x' is not defined",
          "output_type": "error",
          "traceback": [
            "\u001b[1;31m---------------------------------------------------------------------------\u001b[0m",
            "\u001b[1;31mNameError\u001b[0m                                 Traceback (most recent call last)",
            "Cell \u001b[1;32mIn [2], line 1\u001b[0m\n\u001b[1;32m----> 1\u001b[0m \u001b[39mprint\u001b[39m(\u001b[39mtype\u001b[39m(x))\n\u001b[0;32m      2\u001b[0m \u001b[39mprint\u001b[39m(\u001b[39mtype\u001b[39m(y))\n\u001b[0;32m      3\u001b[0m \u001b[39mprint\u001b[39m(\u001b[39mtype\u001b[39m(S))\n",
            "\u001b[1;31mNameError\u001b[0m: name 'x' is not defined"
          ]
        }
      ],
      "source": [
        "print(type(x))\n",
        "print(type(y))\n",
        "print(type(S))\n",
        "print(type(Values))\n",
        "print(type(fruits))\n",
        "print(type(Names))\n",
        "print(type(X))"
      ]
    },
    {
      "cell_type": "code",
      "execution_count": null,
      "metadata": {
        "id": "F9r6HIH8_uzJ"
      },
      "outputs": [],
      "source": []
    },
    {
      "cell_type": "markdown",
      "metadata": {
        "id": "xEXNQyG0_uzK"
      },
      "source": [
        "Question2:\n",
        "    \n",
        "Write a program to prompt a user to enter a mark scored by a student and the program should return the Grade scored\n",
        "(Use if, elif and else statements,Grades are A,B,C,D,E)"
      ]
    },
    {
      "cell_type": "code",
      "execution_count": null,
      "metadata": {
        "id": "9ukVJQ3b_uzL"
      },
      "outputs": [
        {
          "name": "stdout",
          "output_type": "stream",
          "text": [
            "C\n"
          ]
        }
      ],
      "source": [
        "x=input('What is your grade\\n')\n",
        "x=int(x)\n",
        "if x<=20:\n",
        "    print('E')\n",
        "if x>21 and x<40 :\n",
        "    print('D')\n",
        "if x>=41 and x<=60:\n",
        "    print('C')\n",
        "elif x>=61 and x<=80:\n",
        "    print('B')\n",
        "else:print('A')"
      ]
    },
    {
      "cell_type": "code",
      "execution_count": null,
      "metadata": {
        "id": "zT1bOiFN_uzL"
      },
      "outputs": [],
      "source": []
    },
    {
      "cell_type": "markdown",
      "metadata": {
        "id": "iZz2n7l4_uzM"
      },
      "source": [
        "Question3:\n",
        "    \n",
        "Write a program to print all values of the following variables (again you can use a function):"
      ]
    },
    {
      "cell_type": "code",
      "execution_count": null,
      "metadata": {
        "id": "fWuGF4e4_uzN"
      },
      "outputs": [],
      "source": [
        "Word='Programming'\n",
        "Names=['Juma','Joy','Erick','Dennis','James']\n",
        "marks=[35,98,64,26,84,68,90,74]"
      ]
    },
    {
      "cell_type": "code",
      "execution_count": null,
      "metadata": {
        "id": "zOQdf60D_uzO"
      },
      "outputs": [
        {
          "ename": "SyntaxError",
          "evalue": "invalid syntax (3177618289.py, line 3)",
          "output_type": "error",
          "traceback": [
            "\u001b[1;36m  Cell \u001b[1;32mIn [60], line 3\u001b[1;36m\u001b[0m\n\u001b[1;33m    def Names:()\u001b[0m\n\u001b[1;37m             ^\u001b[0m\n\u001b[1;31mSyntaxError\u001b[0m\u001b[1;31m:\u001b[0m invalid syntax\n"
          ]
        }
      ],
      "source": [
        "def Word():\n",
        "    print('programming')\n",
        "def Names:()\n",
        "    print('Juma','Joy','Erick','Dennis','James')\n",
        "print(Names)\n",
        "\n",
        " "
      ]
    },
    {
      "cell_type": "code",
      "execution_count": null,
      "metadata": {
        "id": "7xm1ECCl_uzP"
      },
      "outputs": [],
      "source": []
    },
    {
      "cell_type": "code",
      "execution_count": null,
      "metadata": {
        "id": "vJ13AWok_uzP"
      },
      "outputs": [],
      "source": []
    },
    {
      "cell_type": "markdown",
      "metadata": {
        "id": "xVKt4u4m_uzQ"
      },
      "source": [
        "Question4: \n",
        "    \n",
        "Write a program to create a list named vegetables prices with values 45,86,89,24,62,96,24,64,66,94. Then print those prices which are above 50"
      ]
    },
    {
      "cell_type": "code",
      "execution_count": null,
      "metadata": {
        "id": "rugZ66E5_uzQ"
      },
      "outputs": [],
      "source": []
    },
    {
      "cell_type": "code",
      "execution_count": null,
      "metadata": {
        "id": "MFc8R4nF_uzR"
      },
      "outputs": [],
      "source": []
    },
    {
      "cell_type": "code",
      "execution_count": null,
      "metadata": {
        "id": "VEgBNw3f_uzR"
      },
      "outputs": [],
      "source": []
    },
    {
      "cell_type": "markdown",
      "metadata": {
        "id": "Hf8oPg97_uzR"
      },
      "source": [
        "Question5:\n",
        "    \n",
        "Create a dictionary named Item_Dict, with keys; fruits, number_fruits, prices, and values as ['pineapples','oranges','apples'],\n",
        "[34,67,54], [76,98,96]"
      ]
    },
    {
      "cell_type": "code",
      "execution_count": null,
      "metadata": {
        "id": "OtO0r_UD_uzS"
      },
      "outputs": [],
      "source": []
    },
    {
      "cell_type": "code",
      "execution_count": null,
      "metadata": {
        "id": "NP2Mrf9q_uzS"
      },
      "outputs": [],
      "source": []
    },
    {
      "cell_type": "code",
      "execution_count": null,
      "metadata": {
        "id": "LWQuDvyP_uzS"
      },
      "outputs": [],
      "source": []
    },
    {
      "cell_type": "code",
      "execution_count": null,
      "metadata": {
        "id": "dehjiMqC_uzT"
      },
      "outputs": [],
      "source": []
    },
    {
      "cell_type": "markdown",
      "metadata": {
        "id": "HxXi4jc__uzT"
      },
      "source": [
        "Question6:\n",
        "    \n",
        "write a function that will pass a list and print all elements of a list(create any list to confirm if your function works.)"
      ]
    },
    {
      "cell_type": "code",
      "execution_count": null,
      "metadata": {
        "id": "pBJgXlE6_uzT"
      },
      "outputs": [],
      "source": []
    },
    {
      "cell_type": "code",
      "execution_count": null,
      "metadata": {
        "id": "Ti6LV8U0_uzT"
      },
      "outputs": [],
      "source": []
    },
    {
      "cell_type": "markdown",
      "metadata": {
        "id": "WEQffWce_uzU"
      },
      "source": [
        "Question7:\n",
        "    \n",
        "Write a program to remove the empty spaces from start and end of the following variables: (you can use a function)"
      ]
    },
    {
      "cell_type": "code",
      "execution_count": null,
      "metadata": {
        "id": "XtxIJq4D_uzU"
      },
      "outputs": [],
      "source": [
        "String=\"  Hello \"\n",
        "Fruit=\" Apples  \"\n",
        "value=' 686844875  '"
      ]
    },
    {
      "cell_type": "code",
      "execution_count": null,
      "metadata": {
        "id": "xSpaWVKd_uzU"
      },
      "outputs": [],
      "source": []
    },
    {
      "cell_type": "code",
      "execution_count": null,
      "metadata": {
        "id": "sjSxnMSe_uzV"
      },
      "outputs": [],
      "source": []
    },
    {
      "cell_type": "markdown",
      "metadata": {
        "id": "DPNQbhFV_uzV"
      },
      "source": [
        "Question8:\n",
        "    \n",
        "    \n",
        "Given two integer numbers return their product only if the product is equal to or lower than 1000, else return their sum."
      ]
    },
    {
      "cell_type": "code",
      "execution_count": null,
      "metadata": {
        "id": "rRkfDduI_uzV"
      },
      "outputs": [],
      "source": []
    },
    {
      "cell_type": "code",
      "execution_count": null,
      "metadata": {
        "id": "eeF55WKq_uzV"
      },
      "outputs": [],
      "source": []
    },
    {
      "cell_type": "markdown",
      "metadata": {
        "id": "IRG5t3bo_uzW"
      },
      "source": [
        "Question9:\n",
        "    \n",
        "Write a Python program that prints all the numbers from 0 to 6 except 3 and 6.\n",
        "Note: Use 'continue' statement.\n"
      ]
    },
    {
      "cell_type": "code",
      "execution_count": null,
      "metadata": {
        "id": "s2hmVD-F_uzW"
      },
      "outputs": [],
      "source": []
    },
    {
      "cell_type": "code",
      "execution_count": null,
      "metadata": {
        "id": "6Mwgia98_uzW"
      },
      "outputs": [],
      "source": []
    },
    {
      "cell_type": "markdown",
      "metadata": {
        "id": "DJXdoZoZ_uzW"
      },
      "source": [
        "Question10:\n",
        "Check if the first and last number of a list is the same\n",
        "numbers_list = [10, 20, 30, 40, 10,90,80,11,28,10]\n",
        "\n"
      ]
    },
    {
      "cell_type": "code",
      "execution_count": null,
      "metadata": {
        "id": "BXIenRiU_uzX"
      },
      "outputs": [],
      "source": []
    },
    {
      "cell_type": "code",
      "execution_count": null,
      "metadata": {
        "id": "a5JmqRxw_uzX"
      },
      "outputs": [],
      "source": []
    },
    {
      "cell_type": "markdown",
      "metadata": {
        "id": "2sFaqfNm_uzX"
      },
      "source": [
        "Question11:\n",
        "Find the lenght of the following variables and output only with lenght is more or equal to 5"
      ]
    },
    {
      "cell_type": "code",
      "execution_count": null,
      "metadata": {
        "id": "mUV9ktO__uzX"
      },
      "outputs": [],
      "source": [
        "x=10\n",
        "y=57.86\n",
        "S=\"Welcome\"\n",
        "Values=['23','74','95']\n",
        "fruits=('Tomatoes','Oranges','Pineapples')\n",
        "Names={'Juma':74,'Joy':65,'Rebbecca':56}"
      ]
    },
    {
      "cell_type": "markdown",
      "metadata": {
        "id": "ms814hFj_uzY"
      },
      "source": [
        "Question12:\n",
        "\n",
        "Use split function, to find the number of sentences in the following passage"
      ]
    },
    {
      "cell_type": "code",
      "execution_count": null,
      "metadata": {
        "id": "9u7Qgnf6_uzY"
      },
      "outputs": [],
      "source": [
        "passage='''Today, Python is very high in demand and all the major companies are looking for great Python Programmers to develop websites, software components, and applications or to work with Data Science, AI, and ML technologies. When we are developing this tutorial in 2022, there is a high shortage of Python Programmers where as market demands more number of Python Programmers due to it's application in Machine Learning, Artificial Intelligence etc.\n",
        "\n",
        "Today a Python Programmer with 3-5 years of experience is asking for around $150,000 annual package and this is the most demanding programming language in America. Though it can vary depending on the location of the Job. It's impossible to list all of the companies using Python, to name a few big companies are:'''"
      ]
    },
    {
      "cell_type": "code",
      "execution_count": null,
      "metadata": {
        "id": "TEJI_UdX_uzY"
      },
      "outputs": [],
      "source": []
    },
    {
      "cell_type": "code",
      "execution_count": null,
      "metadata": {
        "id": "4UaVBtB4_uzZ"
      },
      "outputs": [],
      "source": []
    }
  ],
  "metadata": {
    "colab": {
      "provenance": []
    },
    "kernelspec": {
      "display_name": "Python 3.10.7 64-bit",
      "language": "python",
      "name": "python3"
    },
    "language_info": {
      "codemirror_mode": {
        "name": "ipython",
        "version": 3
      },
      "file_extension": ".py",
      "mimetype": "text/x-python",
      "name": "python",
      "nbconvert_exporter": "python",
      "pygments_lexer": "ipython3",
      "version": "3.10.7"
    },
    "orig_nbformat": 4,
    "vscode": {
      "interpreter": {
        "hash": "26de051ba29f2982a8de78e945f0abaf191376122a1563185a90213a26c5da77"
      }
    }
  },
  "nbformat": 4,
  "nbformat_minor": 0
}
